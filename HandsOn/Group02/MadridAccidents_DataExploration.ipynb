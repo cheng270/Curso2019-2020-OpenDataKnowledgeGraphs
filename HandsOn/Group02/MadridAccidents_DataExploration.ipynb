{
  "nbformat": 4,
  "nbformat_minor": 0,
  "metadata": {
    "colab": {
      "name": "MadridAccidents.ipynb",
      "provenance": []
    },
    "kernelspec": {
      "name": "python3",
      "display_name": "Python 3"
    },
    "accelerator": "TPU"
  },
  "cells": [
    {
      "cell_type": "code",
      "metadata": {
        "id": "AMeNHZPhzBJn",
        "colab_type": "code",
        "colab": {}
      },
      "source": [
        "import pandas as pd\n",
        "import matplotlib.pyplot as plt\n",
        "import seaborn as sns\n",
        "import random\n",
        "import numpy as np\n"
      ],
      "execution_count": 0,
      "outputs": []
    },
    {
      "cell_type": "code",
      "metadata": {
        "id": "kH2_JHwGzCBU",
        "colab_type": "code",
        "outputId": "a2854702-280a-446d-a38b-94052f909882",
        "colab": {
          "base_uri": "https://localhost:8080/",
          "height": 119
        }
      },
      "source": [
        "!git clone https://github.com/charis84/MadridAccidentsPrediction"
      ],
      "execution_count": 2,
      "outputs": [
        {
          "output_type": "stream",
          "text": [
            "Cloning into 'MadridAccidentsPrediction'...\n",
            "remote: Enumerating objects: 23, done.\u001b[K\n",
            "remote: Counting objects:   4% (1/23)\u001b[K\rremote: Counting objects:   8% (2/23)\u001b[K\rremote: Counting objects:  13% (3/23)\u001b[K\rremote: Counting objects:  17% (4/23)\u001b[K\rremote: Counting objects:  21% (5/23)\u001b[K\rremote: Counting objects:  26% (6/23)\u001b[K\rremote: Counting objects:  30% (7/23)\u001b[K\rremote: Counting objects:  34% (8/23)\u001b[K\rremote: Counting objects:  39% (9/23)\u001b[K\rremote: Counting objects:  43% (10/23)\u001b[K\rremote: Counting objects:  47% (11/23)\u001b[K\rremote: Counting objects:  52% (12/23)\u001b[K\rremote: Counting objects:  56% (13/23)\u001b[K\rremote: Counting objects:  60% (14/23)\u001b[K\rremote: Counting objects:  65% (15/23)\u001b[K\rremote: Counting objects:  69% (16/23)\u001b[K\rremote: Counting objects:  73% (17/23)\u001b[K\rremote: Counting objects:  78% (18/23)\u001b[K\rremote: Counting objects:  82% (19/23)\u001b[K\rremote: Counting objects:  86% (20/23)\u001b[K\rremote: Counting objects:  91% (21/23)\u001b[K\rremote: Counting objects:  95% (22/23)\u001b[K\rremote: Counting objects: 100% (23/23)\u001b[K\rremote: Counting objects: 100% (23/23), done.\u001b[K\n",
            "remote: Compressing objects: 100% (21/21), done.\u001b[K\n",
            "remote: Total 23 (delta 7), reused 0 (delta 0), pack-reused 0\u001b[K\n",
            "Unpacking objects: 100% (23/23), done.\n"
          ],
          "name": "stdout"
        }
      ]
    },
    {
      "cell_type": "code",
      "metadata": {
        "id": "0xgQ8bIVi09C",
        "colab_type": "code",
        "colab": {}
      },
      "source": [
        "data2018 = pd.read_csv('MadridAccidentsPrediction/Accidentalidad_Madrid_2018.csv')"
      ],
      "execution_count": 0,
      "outputs": []
    },
    {
      "cell_type": "code",
      "metadata": {
        "id": "PhDhqWlMfjAk",
        "colab_type": "code",
        "colab": {}
      },
      "source": [
        "data2018.head()"
      ],
      "execution_count": 0,
      "outputs": []
    },
    {
      "cell_type": "code",
      "metadata": {
        "id": "h6w2TjVnBEjc",
        "colab_type": "code",
        "colab": {}
      },
      "source": [
        "data2018.tail()"
      ],
      "execution_count": 0,
      "outputs": []
    },
    {
      "cell_type": "code",
      "metadata": {
        "id": "aJbwgqy_jtLT",
        "colab_type": "code",
        "colab": {}
      },
      "source": [
        "data2018.info()"
      ],
      "execution_count": 0,
      "outputs": []
    },
    {
      "cell_type": "markdown",
      "metadata": {
        "id": "yDtaAxavmL39",
        "colab_type": "text"
      },
      "source": [
        "## **Basic EDA**"
      ]
    },
    {
      "cell_type": "code",
      "metadata": {
        "id": "TYRQZOp6kPmz",
        "colab_type": "code",
        "colab": {
          "base_uri": "https://localhost:8080/",
          "height": 396
        },
        "outputId": "6ad22e28-47c2-4f21-b7c1-1ee171959425"
      },
      "source": [
        "rplot = sns.countplot(data=data2018,x=\"EVENT_TYPE\")\n",
        "rplot.set_xticklabels(rplot.get_xticklabels(), rotation=60, ha=\"right\")\n",
        "plt.show()"
      ],
      "execution_count": 7,
      "outputs": [
        {
          "output_type": "display_data",
          "data": {
            "image/png": "[encoded data removed]",
            "text/plain": [
              "<Figure size 432x288 with 1 Axes>"
            ]
          },
          "metadata": {
            "tags": []
          }
        }
      ]
    },
    {
      "cell_type": "code",
      "metadata": {
        "id": "9SNs8O2imyp_",
        "colab_type": "code",
        "outputId": "e4501bea-3d12-47da-cf62-84f94808828d",
        "colab": {
          "base_uri": "https://localhost:8080/",
          "height": 325
        }
      },
      "source": [
        "rplot = sns.countplot(data=data2018,x=\"DAY_OF_WEEK\")\n",
        "rplot.set_xticklabels(rplot.get_xticklabels(), rotation=60, ha=\"right\")\n",
        "plt.show()"
      ],
      "execution_count": 8,
      "outputs": [
        {
          "output_type": "display_data",
          "data": {
            "image/png": "[encoded data removed]",
            "text/plain": [
              "<Figure size 432x288 with 1 Axes>"
            ]
          },
          "metadata": {
            "tags": []
          }
        }
      ]
    },
    {
      "cell_type": "code",
      "metadata": {
        "id": "e_hQYrHQnDPX",
        "colab_type": "code",
        "outputId": "8807fee5-92b8-4f13-d462-b99bfd5727c4",
        "colab": {
          "base_uri": "https://localhost:8080/",
          "height": 359
        }
      },
      "source": [
        "rplot = sns.countplot(data=data2018,x=\"DISTRICT\")\n",
        "rplot.set_xticklabels(rplot.get_xticklabels(), rotation=60, ha=\"right\")\n",
        "plt.show()"
      ],
      "execution_count": 9,
      "outputs": [
        {
          "output_type": "display_data",
          "data": {
            "image/png": "[encoded data removed]",
            "text/plain": [
              "<Figure size 432x288 with 1 Axes>"
            ]
          },
          "metadata": {
            "tags": []
          }
        }
      ]
    },
    {
      "cell_type": "markdown",
      "metadata": {
        "id": "8I7NMsSmAIF8",
        "colab_type": "text"
      },
      "source": [
        "# **Which times of the day do accidents mostly happen?**"
      ]
    },
    {
      "cell_type": "code",
      "metadata": {
        "id": "cN5re-1RAHSY",
        "colab_type": "code",
        "colab": {}
      },
      "source": [
        "def RTAs_by_hour(data2018, hour):\n",
        "  hour_list = []\n",
        "  mon, tues, wed, thurs, fri, sat, sun = 0,0,0,0,0,0,0\n",
        "\n",
        "  for idx, row in data2018.iterrows():\n",
        "    if pd.to_datetime(row[\"RANGE_DATE_START\"]).hour == hour and row[\"DAY_OF_WEEK\"] == \"LUNES\": mon +=1\n",
        "    elif pd.to_datetime(row[\"RANGE_DATE_START\"]).hour == hour and row[\"DAY_OF_WEEK\"] == \"MARTES\": tues +=1\n",
        "    elif pd.to_datetime(row[\"RANGE_DATE_START\"]).hour == hour and row[\"DAY_OF_WEEK\"] == \"MIERCOLES\": wed +=1\n",
        "    elif pd.to_datetime(row[\"RANGE_DATE_START\"]).hour == hour and row[\"DAY_OF_WEEK\"] == \"JUEVES\": thurs +=1\n",
        "    elif pd.to_datetime(row[\"RANGE_DATE_START\"]).hour == hour and row[\"DAY_OF_WEEK\"] == \"VIERNES\": fri +=1\n",
        "    elif pd.to_datetime(row[\"RANGE_DATE_START\"]).hour == hour and row[\"DAY_OF_WEEK\"] == \"SABADO\": sat +=1\n",
        "    elif pd.to_datetime(row[\"RANGE_DATE_START\"]).hour == hour and row[\"DAY_OF_WEEK\"] == \"DOMINGO\": sun +=1\n",
        "    else: a=0\n",
        "\n",
        "  hour_list.append(mon)\n",
        "  hour_list.append(tues)\n",
        "  hour_list.append(wed)\n",
        "  hour_list.append(thurs)\n",
        "  hour_list.append(fri)\n",
        "  hour_list.append(sat)\n",
        "  hour_list.append(sun)\n",
        "\n",
        "  total = mon+tues+wed+thurs+fri+sat+sun\n",
        "\n",
        "  return hour_list"
      ],
      "execution_count": 0,
      "outputs": []
    },
    {
      "cell_type": "code",
      "metadata": {
        "id": "t2QSmEpVFjon",
        "colab_type": "code",
        "colab": {}
      },
      "source": [
        "hour_0 = RTAs_by_hour(data2018, 0)\n",
        "hour_1 = RTAs_by_hour(data2018, 1)\n",
        "hour_2 = RTAs_by_hour(data2018, 2)\n",
        "hour_3 = RTAs_by_hour(data2018, 3)\n",
        "hour_4 = RTAs_by_hour(data2018, 4)\n",
        "hour_5 = RTAs_by_hour(data2018, 5)\n",
        "hour_6 = RTAs_by_hour(data2018, 6)\n",
        "hour_7 = RTAs_by_hour(data2018, 7)\n",
        "hour_8 = RTAs_by_hour(data2018, 8)\n",
        "hour_9 = RTAs_by_hour(data2018, 9)\n",
        "hour_10 = RTAs_by_hour(data2018, 10)\n",
        "hour_11 = RTAs_by_hour(data2018, 11)\n",
        "hour_12 = RTAs_by_hour(data2018, 12)\n",
        "hour_13 = RTAs_by_hour(data2018, 13)\n",
        "hour_14 = RTAs_by_hour(data2018, 14)\n",
        "hour_15 = RTAs_by_hour(data2018, 15)\n",
        "hour_16 = RTAs_by_hour(data2018, 16)\n",
        "hour_17 = RTAs_by_hour(data2018, 17)\n",
        "hour_18 = RTAs_by_hour(data2018, 18)\n",
        "hour_19 = RTAs_by_hour(data2018, 19)\n",
        "hour_20 = RTAs_by_hour(data2018, 20)\n",
        "hour_21 = RTAs_by_hour(data2018, 21)\n",
        "hour_22 = RTAs_by_hour(data2018, 22)\n",
        "hour_23 = RTAs_by_hour(data2018, 23)\n",
        "hour_24 = RTAs_by_hour(data2018, 24)"
      ],
      "execution_count": 0,
      "outputs": []
    },
    {
      "cell_type": "code",
      "metadata": {
        "id": "Wf2zHRzaGa9Z",
        "colab_type": "code",
        "colab": {}
      },
      "source": [
        "columns = [\"LUNES\", \"MARTES\", \"MIERCOLES\", \"JUEVES\", \"VIERNES\", \"SABADO\", \"DOMINGO\"]\n",
        "rows = [\"0\", \"1am\", \"2am\", \"3am\", \"4am\", \"5am\", \"6am\", \"7am\", \"8am\", \"9am\", \"10am\", \"11am\", \n",
        "        \"12pm\", \"1pm\", \"2pm\", \"3pm\", \"4pm\", \"5pm\", \"6pm\", \"7pm\", \"8pm\", \"9pm\", \"10pm\", \"11pm\"]\n",
        "data = np.array([hour_0, hour_1, hour_2, hour_3, hour_4, hour_5, hour_6, hour_7, hour_8, hour_9, \n",
        "                 hour_10, hour_11, hour_12, hour_13, hour_14, hour_15, hour_16, hour_17, hour_18, \n",
        "                 hour_19, hour_20, hour_21, hour_22, hour_23])\n",
        "heatmap_hour = pd.DataFrame(data=data, index=rows, columns=columns)\n"
      ],
      "execution_count": 0,
      "outputs": []
    },
    {
      "cell_type": "markdown",
      "metadata": {
        "id": "e_cIZBxQI7gt",
        "colab_type": "text"
      },
      "source": [
        "Display heatmap:"
      ]
    },
    {
      "cell_type": "code",
      "metadata": {
        "id": "g7YkCvaJI2cD",
        "colab_type": "code",
        "colab": {}
      },
      "source": [
        "fig = plt.figure(figsize=(16,16))\n",
        "ax = sns.heatmap(heatmap_hour, annot=True, fmt=\"d\", cmap='BuPu', cbar_kws={\"orientation\": \"horizontal\"} )\n",
        "ax.set_title = \"Traffic Accidents By Hour For Each Day in 2019\""
      ],
      "execution_count": 0,
      "outputs": []
    },
    {
      "cell_type": "markdown",
      "metadata": {
        "id": "x8b_p4Q3dHPL",
        "colab_type": "text"
      },
      "source": [
        "# **In What Weather Conditions Do Accidents Mostly Happen?**"
      ]
    },
    {
      "cell_type": "code",
      "metadata": {
        "id": "NCtKTQg3YJxY",
        "colab_type": "code",
        "colab": {}
      },
      "source": [
        "def RTAs_by_WeatherCondition(data2018, evntType):\n",
        "  event_list = []\n",
        "  hail, ice, rain, fog, dry, snow = 0,0,0,0,0,0\n",
        "\n",
        "  for idx, row in data2018.iterrows():\n",
        "    if (row[\"EVENT_TYPE\"] == evntType):\n",
        "       if row[\"CPFA_HAIL\"] == \"HAIL\": hail +=1\n",
        "       if row[\"CPFA_ICE\"] == \"ICE\": ice +=1\n",
        "       if row[\"CPFA_RAIN\"] == \"RAIN\": rain +=1\n",
        "       if row[\"CPFA_FOG\"] == \"FOG\": fog +=1\n",
        "       if row[\"CPFA_DRY\"] == \"DRY\": dry +=1\n",
        "       if row[\"CPFA_SNOW\"] == \"SNOW\": snow +=1\n",
        "    else: a=0\n",
        "\n",
        "  event_list.append(hail)\n",
        "  event_list.append(ice)\n",
        "  event_list.append(rain)\n",
        "  event_list.append(fog)\n",
        "  event_list.append(dry)\n",
        "  event_list.append(snow)\n",
        "\n",
        "  total = hail+ice+rain+fog+dry+snow\n",
        "\n",
        "  return event_list"
      ],
      "execution_count": 0,
      "outputs": []
    },
    {
      "cell_type": "code",
      "metadata": {
        "id": "8QZ4ZqJfs2hE",
        "colab_type": "code",
        "colab": {}
      },
      "source": [
        "event_1 = RTAs_by_WeatherCondition(data2018, \"ATROPELLO\")\n",
        "event_2 = RTAs_by_WeatherCondition(data2018, \"CHOQUE CON OBJETO FIJO\")\n",
        "event_3 = RTAs_by_WeatherCondition(data2018, \"COLISION DOBLE\")\n",
        "event_4 = RTAs_by_WeatherCondition(data2018, \"CAIDA MOTOCICLETA\")\n",
        "event_5 = RTAs_by_WeatherCondition(data2018, \"COLISION MULTIPLE\")\n",
        "event_6 = RTAs_by_WeatherCondition(data2018, \"CAIDA VIAJERO BUS\")\n",
        "event_7 = RTAs_by_WeatherCondition(data2018, \"CAIDA CICLOMOTOR\")\n",
        "event_8 = RTAs_by_WeatherCondition(data2018, \"OTRAS CAUSAS\")\n",
        "event_9 = RTAs_by_WeatherCondition(data2018, \"CAIDA BICICLETA\")\n",
        "event_10 = RTAs_by_WeatherCondition(data2018, \"VUELCO\")\n",
        "event_11 = RTAs_by_WeatherCondition(data2018, \"CAIDA VEHICULO 3 RUEDAS\")"
      ],
      "execution_count": 0,
      "outputs": []
    },
    {
      "cell_type": "code",
      "metadata": {
        "id": "tOiEtmOCt2ah",
        "colab_type": "code",
        "colab": {}
      },
      "source": [
        "columns = [\"HAIL\", \"ICE\", \"RAIN\", \"FOG\", \"DRY\", \"SNOW\"]\n",
        "rows = [\"ATROPELLO\", \"CHOQUE CON OBJETO FIJO\", \"COLISION DOBLE\", \"CAIDA MOTOCICLETA\", \"COLISION MULTIPLE\", \n",
        "        \"CAIDA VIAJERO BUS\", \"CAIDA CICLOMOTOR\", \"OTRAS CAUSAS\", \"CAIDA BICICLETA\", \"VUELCO\", \"CAIDA VEHICULO 3 RUEDAS\"]\n",
        "data = np.array([event_1, event_2, event_3, event_4, event_5, event_6, event_7, event_8, event_9, event_10, event_11])\n",
        "heatmap_w_cond = pd.DataFrame(data=data, index=rows, columns=columns)\n"
      ],
      "execution_count": 0,
      "outputs": []
    },
    {
      "cell_type": "markdown",
      "metadata": {
        "id": "JBwOUhVawsh6",
        "colab_type": "text"
      },
      "source": [
        "Display heatmap:"
      ]
    },
    {
      "cell_type": "code",
      "metadata": {
        "id": "yUtPW6RMvz8Y",
        "colab_type": "code",
        "colab": {}
      },
      "source": [
        "fig = plt.figure(figsize=(14,14))\n",
        "ax = sns.heatmap(heatmap_w_cond, annot=True, fmt=\"d\", cmap='BuPu', cbar_kws={\"orientation\": \"horizontal\"} )\n",
        "ax.set_title = \"Traffic Accidents By Weather Condition For Each Event Type in 2019\""
      ],
      "execution_count": 0,
      "outputs": []
    },
    {
      "cell_type": "markdown",
      "metadata": {
        "id": "_-qauM1uxKFp",
        "colab_type": "text"
      },
      "source": [
        "# **In What Road Conditions Do Accidents Mostly Happen?**"
      ]
    },
    {
      "cell_type": "code",
      "metadata": {
        "id": "nJWZM_AHxPm6",
        "colab_type": "code",
        "colab": {}
      },
      "source": [
        "def RTAs_by_RoadCondition(data2018, evntType):\n",
        "  event_list = []\n",
        "  wet, oil, mud, loose_gravel, ice, dry_and_clean = 0,0,0,0,0,0\n",
        "\n",
        "  for idx, row in data2018.iterrows():\n",
        "    if (row[\"EVENT_TYPE\"] == evntType):\n",
        "       if row[\"CPSV_WET\"] == \"WET\": wet +=1\n",
        "       if row[\"CPSV_OIL\"] == \"OIL\": oil +=1\n",
        "       if row[\"CPSV_MUD\"] == \"MUD\": mud +=1\n",
        "       if row[\"CPSV_LOOSE_GRAVEL\"] == \"LOOSE GRAVEL\": loose_gravel +=1\n",
        "       if row[\"CPSV_ICE\"] == \"ICE\": ice +=1\n",
        "       if row[\"CPSV_DRY_AND_CLEAN\"] == \"DRY AND CLEAN\": dry_and_clean +=1\n",
        "    else: a=0\n",
        "\n",
        "  event_list.append(wet)\n",
        "  event_list.append(oil)\n",
        "  event_list.append(mud)\n",
        "  event_list.append(loose_gravel)\n",
        "  event_list.append(ice)\n",
        "  event_list.append(dry_and_clean)\n",
        "\n",
        "  total = wet+oil+mud+loose_gravel+ice+dry_and_clean\n",
        "\n",
        "  return event_list"
      ],
      "execution_count": 0,
      "outputs": []
    },
    {
      "cell_type": "code",
      "metadata": {
        "id": "U3hE04ZGyXxr",
        "colab_type": "code",
        "colab": {}
      },
      "source": [
        "event_1 = RTAs_by_RoadCondition(data2018, \"ATROPELLO\")\n",
        "event_2 = RTAs_by_RoadCondition(data2018, \"CHOQUE CON OBJETO FIJO\")\n",
        "event_3 = RTAs_by_RoadCondition(data2018, \"COLISION DOBLE\")\n",
        "event_4 = RTAs_by_RoadCondition(data2018, \"CAIDA MOTOCICLETA\")\n",
        "event_5 = RTAs_by_RoadCondition(data2018, \"COLISION MULTIPLE\")\n",
        "event_6 = RTAs_by_RoadCondition(data2018, \"CAIDA VIAJERO BUS\")\n",
        "event_7 = RTAs_by_RoadCondition(data2018, \"CAIDA CICLOMOTOR\")\n",
        "event_8 = RTAs_by_RoadCondition(data2018, \"OTRAS CAUSAS\")\n",
        "event_9 = RTAs_by_RoadCondition(data2018, \"CAIDA BICICLETA\")\n",
        "event_10 = RTAs_by_RoadCondition(data2018, \"VUELCO\")\n",
        "event_11 = RTAs_by_RoadCondition(data2018, \"CAIDA VEHICULO 3 RUEDAS\")"
      ],
      "execution_count": 0,
      "outputs": []
    },
    {
      "cell_type": "code",
      "metadata": {
        "id": "hbBKaKYdygm3",
        "colab_type": "code",
        "colab": {}
      },
      "source": [
        "columns = [\"WET\", \"OIL\", \"MUD\", \"LOOSE GRAVEL\", \"ICE\", \"DRY AND CLEAN\"]\n",
        "rows = [\"ATROPELLO\", \"CHOQUE CON OBJETO FIJO\", \"COLISION DOBLE\", \"CAIDA MOTOCICLETA\", \"COLISION MULTIPLE\", \n",
        "        \"CAIDA VIAJERO BUS\", \"CAIDA CICLOMOTOR\", \"OTRAS CAUSAS\", \"CAIDA BICICLETA\", \"VUELCO\", \"CAIDA VEHICULO 3 RUEDAS\"]\n",
        "data = np.array([event_1, event_2, event_3, event_4, event_5, event_6, event_7, event_8, event_9, event_10, event_11])\n",
        "heatmap_r_cond = pd.DataFrame(data=data, index=rows, columns=columns)"
      ],
      "execution_count": 0,
      "outputs": []
    },
    {
      "cell_type": "code",
      "metadata": {
        "id": "SxTepD2PzASX",
        "colab_type": "code",
        "colab": {}
      },
      "source": [
        "fig = plt.figure(figsize=(14,14))\n",
        "ax = sns.heatmap(heatmap_r_cond, annot=True, fmt=\"d\", cmap='BuPu', cbar_kws={\"orientation\": \"horizontal\"} )\n",
        "ax.set_title = \"Traffic Accidents By Road Condition For Each Event Type in 2019\""
      ],
      "execution_count": 0,
      "outputs": []
    },
    {
      "cell_type": "code",
      "metadata": {
        "id": "IkzmhcIO0P_2",
        "colab_type": "code",
        "colab": {}
      },
      "source": [
        ""
      ],
      "execution_count": 0,
      "outputs": []
    }
  ]
}